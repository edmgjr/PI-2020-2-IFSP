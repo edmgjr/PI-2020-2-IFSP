{
 "cells": [
  {
   "cell_type": "markdown",
   "metadata": {},
   "source": [
    "# 7.0. PySpark"
   ]
  },
  {
   "cell_type": "code",
   "execution_count": 1,
   "metadata": {},
   "outputs": [
    {
     "data": {
      "application/vnd.jupyter.widget-view+json": {
       "model_id": "d9581abb4e7341968fb915e98a28472e",
       "version_major": 2,
       "version_minor": 0
      },
      "text/plain": [
       "VBox()"
      ]
     },
     "metadata": {},
     "output_type": "display_data"
    },
    {
     "name": "stdout",
     "output_type": "stream",
     "text": [
      "Starting Spark application\n"
     ]
    },
    {
     "data": {
      "text/html": [
       "<table>\n",
       "<tr><th>ID</th><th>YARN Application ID</th><th>Kind</th><th>State</th><th>Spark UI</th><th>Driver log</th><th>Current session?</th></tr><tr><td>0</td><td>application_1639082831106_0001</td><td>pyspark</td><td>idle</td><td><a target=\"_blank\" href=\"http://ip-172-31-20-84.us-east-2.compute.internal:20888/proxy/application_1639082831106_0001/\" class=\"emr-proxy-link\" emr-resource=\"j-3LTQ2KXWMWZSC\n",
       "\" application-id=\"application_1639082831106_0001\">Link</a></td><td><a target=\"_blank\" href=\"http://ip-172-31-29-125.us-east-2.compute.internal:8042/node/containerlogs/container_1639082831106_0001_01_000001/livy\" >Link</a></td><td>✔</td></tr></table>"
      ],
      "text/plain": [
       "<IPython.core.display.HTML object>"
      ]
     },
     "metadata": {},
     "output_type": "display_data"
    },
    {
     "data": {
      "application/vnd.jupyter.widget-view+json": {
       "model_id": "",
       "version_major": 2,
       "version_minor": 0
      },
      "text/plain": [
       "FloatProgress(value=0.0, bar_style='info', description='Progress:', layout=Layout(height='25px', width='50%'),…"
      ]
     },
     "metadata": {},
     "output_type": "display_data"
    },
    {
     "name": "stdout",
     "output_type": "stream",
     "text": [
      "SparkSession available as 'spark'.\n"
     ]
    },
    {
     "data": {
      "application/vnd.jupyter.widget-view+json": {
       "model_id": "",
       "version_major": 2,
       "version_minor": 0
      },
      "text/plain": [
       "FloatProgress(value=0.0, bar_style='info', description='Progress:', layout=Layout(height='25px', width='50%'),…"
      ]
     },
     "metadata": {},
     "output_type": "display_data"
    }
   ],
   "source": [
    "%%spark"
   ]
  },
  {
   "cell_type": "markdown",
   "metadata": {},
   "source": [
    "Importando as bibliotecas usadas no projeto"
   ]
  },
  {
   "cell_type": "code",
   "execution_count": 3,
   "metadata": {},
   "outputs": [
    {
     "data": {
      "application/vnd.jupyter.widget-view+json": {
       "model_id": "8ced98c7828a491dac0e2826a48cb97c",
       "version_major": 2,
       "version_minor": 0
      },
      "text/plain": [
       "VBox()"
      ]
     },
     "metadata": {},
     "output_type": "display_data"
    },
    {
     "data": {
      "application/vnd.jupyter.widget-view+json": {
       "model_id": "",
       "version_major": 2,
       "version_minor": 0
      },
      "text/plain": [
       "FloatProgress(value=0.0, bar_style='info', description='Progress:', layout=Layout(height='25px', width='50%'),…"
      ]
     },
     "metadata": {},
     "output_type": "display_data"
    }
   ],
   "source": [
    "from pyspark.ml.feature import VectorAssembler, Normalizer, StandardScaler\n",
    "from pyspark.ml.regression import LinearRegression, RandomForestRegressor, DecisionTreeRegressor\n",
    "from pyspark.ml.evaluation import MulticlassClassificationEvaluator, RegressionEvaluator\n",
    "from pyspark.ml import Pipeline\n",
    "from pyspark.ml.tuning import CrossValidator, ParamGridBuilder\n",
    "from  pyspark.sql.functions import abs"
   ]
  },
  {
   "cell_type": "code",
   "execution_count": null,
   "metadata": {},
   "outputs": [],
   "source": [
    "sc.install_pypi_package(\"pandas==0.25.1\") \n",
    "sc.install_pypi_package(\"matplotlib\")\n",
    "sc.install_pypi_package(\"scikit-learn\")\n",
    "sc.install_pypi_package(\"numpy\")"
   ]
  },
  {
   "cell_type": "markdown",
   "metadata": {},
   "source": [
    "Lendo dataset do bucket no S3"
   ]
  },
  {
   "cell_type": "code",
   "execution_count": 4,
   "metadata": {},
   "outputs": [
    {
     "data": {
      "application/vnd.jupyter.widget-view+json": {
       "model_id": "b099d5dad4f940e69a94afd7823ab92f",
       "version_major": 2,
       "version_minor": 0
      },
      "text/plain": [
       "VBox()"
      ]
     },
     "metadata": {},
     "output_type": "display_data"
    },
    {
     "data": {
      "application/vnd.jupyter.widget-view+json": {
       "model_id": "",
       "version_major": 2,
       "version_minor": 0
      },
      "text/plain": [
       "FloatProgress(value=0.0, bar_style='info', description='Progress:', layout=Layout(height='25px', width='50%'),…"
      ]
     },
     "metadata": {},
     "output_type": "display_data"
    },
    {
     "name": "stdout",
     "output_type": "stream",
     "text": [
      "+------------+-------------+-------------------+-------------------+--------------------------+----------------+--------+-----------+------------+--------------+--------------+------------------+--------------+--------------+-------------+--------------------+-----------+--------------+---------+\n",
      "|days_no_rain|precipitation|           latitude|          longitude|atm_pressure_station_level|global_radiation|air_temp|dpoint_temp|air_humidity|wind_clockwise|max_gust_speed|        day_length|biome_Amazonia|biome_Caatinga|biome_Cerrado|biome_Mata Atlantica|biome_Pampa|biome_Pantanal|fire_risk|\n",
      "+------------+-------------+-------------------+-------------------+--------------------------+----------------+--------+-----------+------------+--------------+--------------+------------------+--------------+--------------+-------------+--------------------+-----------+--------------+---------+\n",
      "|         0.0|          0.1|             -2.842|            -41.986|                    1006.7|          2318.2|    31.6|       21.3|        55.0|          88.0|          10.6|12.161663305390155|             0|             0|            1|                   0|          0|             0|      0.9|\n",
      "|         0.0|          0.8|             -7.901|            -42.494|                     985.9|          2887.3|    31.1|       19.5|        50.0|          36.0|           7.3| 12.45216753626149|             0|             1|            0|                   0|          0|             0|      0.5|\n",
      "|         0.0|          0.0|             -6.065|            -39.262|                     988.2|          1814.4|    31.9|       16.1|        39.0|          52.0|           6.9| 12.34610217354908|             0|             1|            0|                   0|          0|             0|      1.0|\n",
      "|         0.0|          3.7|            -11.114| -45.65600000000001|                     958.6|          2842.9|    30.0|       22.7|        65.0|         290.0|           4.9|12.640432170293026|             0|             0|            1|                   0|          0|             0|      0.0|\n",
      "|         0.0|          0.1| -8.892999999999997|            -42.701|                     969.4|          3135.6|    33.5|       18.5|        41.0|          49.0|           7.4|12.509890140674054|             0|             1|            0|                   0|          0|             0|      0.9|\n",
      "|         0.0|          1.7|-6.9110000000000005|            -39.357|                     967.2|          3179.6|    30.2|       17.6|        47.0|          17.0|           5.3|12.394862826590106|             0|             1|            0|                   0|          0|             0|      1.0|\n",
      "|         0.0|          0.0|              -1.77|            -45.192|                    1007.8|          2515.8|    32.0|       22.5|        57.0|          76.0|           8.8|12.100628869777148|             1|             0|            0|                   0|          0|             0|      0.0|\n",
      "|         0.0|          0.1|             -2.843|-41.976000000000006|                    1006.7|          2318.2|    31.6|       21.3|        55.0|          88.0|          10.6|12.161720291001794|             0|             1|            0|                   0|          0|             0|      0.9|\n",
      "|         0.0|          0.7|             -2.877|            -43.872|                    1007.2|          1643.6|    29.6|       22.3|        65.0|         208.0|           9.4|12.163657866178687|             0|             0|            1|                   0|          0|             0|      0.4|\n",
      "|         0.0|          0.1|             -3.355|            -40.554|                    1002.2|          2187.2|    32.3|       19.7|        48.0|          76.0|           9.9|12.190911934455185|             0|             1|            0|                   0|          0|             0|      0.7|\n",
      "|         0.0|          9.6|            -13.068|            -52.383|                     976.4|          2396.9|    30.2|       23.8|        69.0|         148.0|           2.1|12.757080917915935|             1|             0|            0|                   0|          0|             0|      0.0|\n",
      "|         0.0|          9.4|            -13.065|            -52.389|                     976.4|          2396.9|    30.2|       23.8|        69.0|         148.0|           2.1|12.756900349845855|             1|             0|            0|                   0|          0|             0|      0.0|\n",
      "|         0.0|          1.7|            -11.482|            -51.044|                     991.0|          2524.2|    30.7|       21.8|        59.0|          36.0|           2.7|12.662260769126885|             0|             0|            1|                   0|          0|             0|      0.2|\n",
      "|         0.0|          7.6|            -15.153|            -42.333|                     949.5|          2584.4|    30.2|       16.7|        44.0|          46.0|           4.4|12.883813177646358|             0|             0|            0|                   1|          0|             0|      0.8|\n",
      "|         0.0|          0.2|            -13.476|            -42.754|                     962.4|          3012.8|    32.8|       19.9|        47.0|         262.0|           3.4|12.781683559186654|             0|             1|            0|                   0|          0|             0|      0.6|\n",
      "|         0.0|          2.4|             -12.39|            -44.622|                     960.2|          2713.6|    30.2|       22.5|        63.0|         139.0|           3.7|12.716392461161721|             0|             0|            1|                   0|          0|             0|      0.1|\n",
      "|         0.0|          6.1|            -11.975|             -46.55|                     933.5|          2559.5|    27.5|       20.8|        67.0|          85.0|           3.6|12.691602286006825|             0|             0|            1|                   0|          0|             0|      0.0|\n",
      "|         0.0|          3.4|            -12.857| -45.76600000000001|                     929.9|          2562.3|    28.4|       20.9|        64.0|         137.0|           5.5|12.744392625830026|             0|             0|            1|                   0|          0|             0|      0.0|\n",
      "|         0.0|          1.1|            -12.379| -44.31800000000001|                     960.2|          2713.6|    30.2|       22.5|        63.0|         139.0|           3.7|12.715734269271113|             0|             0|            1|                   0|          0|             0|      0.2|\n",
      "|         0.0|         10.5|            -11.956| -45.13399999999999|                     960.2|          2713.6|    30.2|       22.5|        63.0|         139.0|           3.7|12.690469333768457|             0|             0|            1|                   0|          0|             0|      0.1|\n",
      "+------------+-------------+-------------------+-------------------+--------------------------+----------------+--------+-----------+------------+--------------+--------------+------------------+--------------+--------------+-------------+--------------------+-----------+--------------+---------+\n",
      "only showing top 20 rows"
     ]
    }
   ],
   "source": [
    "input_bucket = 's3://ede.miranda.bucket'\n",
    "input_path = '/datasets/output/wildfire_train_spark_sprint3.csv'\n",
    "df = spark.read.csv(input_bucket + input_path, header=True)\n",
    "df.show()"
   ]
  },
  {
   "cell_type": "markdown",
   "metadata": {},
   "source": [
    "Removendo instâncias com valores nulos"
   ]
  },
  {
   "cell_type": "code",
   "execution_count": 5,
   "metadata": {},
   "outputs": [
    {
     "data": {
      "application/vnd.jupyter.widget-view+json": {
       "model_id": "0ffc7d8ce4714ca8abd28828701edcae",
       "version_major": 2,
       "version_minor": 0
      },
      "text/plain": [
       "VBox()"
      ]
     },
     "metadata": {},
     "output_type": "display_data"
    },
    {
     "data": {
      "application/vnd.jupyter.widget-view+json": {
       "model_id": "",
       "version_major": 2,
       "version_minor": 0
      },
      "text/plain": [
       "FloatProgress(value=0.0, bar_style='info', description='Progress:', layout=Layout(height='25px', width='50%'),…"
      ]
     },
     "metadata": {},
     "output_type": "display_data"
    }
   ],
   "source": [
    "df = df.na.drop()"
   ]
  },
  {
   "cell_type": "code",
   "execution_count": 6,
   "metadata": {},
   "outputs": [
    {
     "data": {
      "application/vnd.jupyter.widget-view+json": {
       "model_id": "a3e6419a308a487483517ccb29ca69ce",
       "version_major": 2,
       "version_minor": 0
      },
      "text/plain": [
       "VBox()"
      ]
     },
     "metadata": {},
     "output_type": "display_data"
    },
    {
     "data": {
      "application/vnd.jupyter.widget-view+json": {
       "model_id": "",
       "version_major": 2,
       "version_minor": 0
      },
      "text/plain": [
       "FloatProgress(value=0.0, bar_style='info', description='Progress:', layout=Layout(height='25px', width='50%'),…"
      ]
     },
     "metadata": {},
     "output_type": "display_data"
    },
    {
     "name": "stdout",
     "output_type": "stream",
     "text": [
      "[('days_no_rain', 'string'), ('precipitation', 'string'), ('latitude', 'string'), ('longitude', 'string'), ('atm_pressure_station_level', 'string'), ('global_radiation', 'string'), ('air_temp', 'string'), ('dpoint_temp', 'string'), ('air_humidity', 'string'), ('wind_clockwise', 'string'), ('max_gust_speed', 'string'), ('day_length', 'string'), ('biome_Amazonia', 'string'), ('biome_Caatinga', 'string'), ('biome_Cerrado', 'string'), ('biome_Mata Atlantica', 'string'), ('biome_Pampa', 'string'), ('biome_Pantanal', 'string'), ('fire_risk', 'string')]"
     ]
    }
   ],
   "source": [
    "df.dtypes"
   ]
  },
  {
   "cell_type": "code",
   "execution_count": 7,
   "metadata": {},
   "outputs": [
    {
     "data": {
      "application/vnd.jupyter.widget-view+json": {
       "model_id": "c2b0cbd84f4f423885c5fc194e6dc5fb",
       "version_major": 2,
       "version_minor": 0
      },
      "text/plain": [
       "VBox()"
      ]
     },
     "metadata": {},
     "output_type": "display_data"
    },
    {
     "data": {
      "application/vnd.jupyter.widget-view+json": {
       "model_id": "",
       "version_major": 2,
       "version_minor": 0
      },
      "text/plain": [
       "FloatProgress(value=0.0, bar_style='info', description='Progress:', layout=Layout(height='25px', width='50%'),…"
      ]
     },
     "metadata": {},
     "output_type": "display_data"
    },
    {
     "name": "stdout",
     "output_type": "stream",
     "text": [
      "['days_no_rain', 'precipitation', 'latitude', 'longitude', 'atm_pressure_station_level', 'global_radiation', 'air_temp', 'dpoint_temp', 'air_humidity', 'wind_clockwise', 'max_gust_speed', 'day_length', 'biome_Amazonia', 'biome_Caatinga', 'biome_Cerrado', 'biome_Mata Atlantica', 'biome_Pampa', 'biome_Pantanal', 'fire_risk']"
     ]
    }
   ],
   "source": [
    "df.columns"
   ]
  },
  {
   "cell_type": "markdown",
   "metadata": {},
   "source": [
    "Convertendo os tipos de dados para float, e modularizando os valores de latitude e longitude"
   ]
  },
  {
   "cell_type": "code",
   "execution_count": 8,
   "metadata": {},
   "outputs": [
    {
     "data": {
      "application/vnd.jupyter.widget-view+json": {
       "model_id": "fcb3a0c5cc5545e3aaec288e1e645ebc",
       "version_major": 2,
       "version_minor": 0
      },
      "text/plain": [
       "VBox()"
      ]
     },
     "metadata": {},
     "output_type": "display_data"
    },
    {
     "data": {
      "application/vnd.jupyter.widget-view+json": {
       "model_id": "",
       "version_major": 2,
       "version_minor": 0
      },
      "text/plain": [
       "FloatProgress(value=0.0, bar_style='info', description='Progress:', layout=Layout(height='25px', width='50%'),…"
      ]
     },
     "metadata": {},
     "output_type": "display_data"
    }
   ],
   "source": [
    "for c in df.columns:\n",
    "    df=df.withColumn(c, df[c].cast('float'))\n",
    "df = df.withColumn('latitude', abs(df.latitude))\n",
    "df = df.withColumn('longitude', abs(df.longitude))"
   ]
  },
  {
   "cell_type": "code",
   "execution_count": 9,
   "metadata": {},
   "outputs": [
    {
     "data": {
      "application/vnd.jupyter.widget-view+json": {
       "model_id": "697629c1dc3b4dffa4078653c815d108",
       "version_major": 2,
       "version_minor": 0
      },
      "text/plain": [
       "VBox()"
      ]
     },
     "metadata": {},
     "output_type": "display_data"
    },
    {
     "data": {
      "application/vnd.jupyter.widget-view+json": {
       "model_id": "",
       "version_major": 2,
       "version_minor": 0
      },
      "text/plain": [
       "FloatProgress(value=0.0, bar_style='info', description='Progress:', layout=Layout(height='25px', width='50%'),…"
      ]
     },
     "metadata": {},
     "output_type": "display_data"
    },
    {
     "name": "stdout",
     "output_type": "stream",
     "text": [
      "[('days_no_rain', 'float'), ('precipitation', 'float'), ('latitude', 'float'), ('longitude', 'float'), ('atm_pressure_station_level', 'float'), ('global_radiation', 'float'), ('air_temp', 'float'), ('dpoint_temp', 'float'), ('air_humidity', 'float'), ('wind_clockwise', 'float'), ('max_gust_speed', 'float'), ('day_length', 'float'), ('biome_Amazonia', 'float'), ('biome_Caatinga', 'float'), ('biome_Cerrado', 'float'), ('biome_Mata Atlantica', 'float'), ('biome_Pampa', 'float'), ('biome_Pantanal', 'float'), ('fire_risk', 'float')]"
     ]
    }
   ],
   "source": [
    "df.dtypes"
   ]
  },
  {
   "cell_type": "markdown",
   "metadata": {},
   "source": [
    "Renomeando a feature dependente para 'label'"
   ]
  },
  {
   "cell_type": "code",
   "execution_count": 10,
   "metadata": {},
   "outputs": [
    {
     "data": {
      "application/vnd.jupyter.widget-view+json": {
       "model_id": "4cab8c303c3f409a8476f106fd7ce51a",
       "version_major": 2,
       "version_minor": 0
      },
      "text/plain": [
       "VBox()"
      ]
     },
     "metadata": {},
     "output_type": "display_data"
    },
    {
     "data": {
      "application/vnd.jupyter.widget-view+json": {
       "model_id": "",
       "version_major": 2,
       "version_minor": 0
      },
      "text/plain": [
       "FloatProgress(value=0.0, bar_style='info', description='Progress:', layout=Layout(height='25px', width='50%'),…"
      ]
     },
     "metadata": {},
     "output_type": "display_data"
    }
   ],
   "source": [
    "df = df.withColumnRenamed('fire_risk', 'label')"
   ]
  },
  {
   "cell_type": "code",
   "execution_count": 11,
   "metadata": {},
   "outputs": [
    {
     "data": {
      "application/vnd.jupyter.widget-view+json": {
       "model_id": "c413b33158ca4a07ada84aca332d7abc",
       "version_major": 2,
       "version_minor": 0
      },
      "text/plain": [
       "VBox()"
      ]
     },
     "metadata": {},
     "output_type": "display_data"
    },
    {
     "data": {
      "application/vnd.jupyter.widget-view+json": {
       "model_id": "",
       "version_major": 2,
       "version_minor": 0
      },
      "text/plain": [
       "FloatProgress(value=0.0, bar_style='info', description='Progress:', layout=Layout(height='25px', width='50%'),…"
      ]
     },
     "metadata": {},
     "output_type": "display_data"
    },
    {
     "name": "stdout",
     "output_type": "stream",
     "text": [
      "+------------+-------------+--------+---------+--------------------------+----------------+--------+-----------+------------+--------------+--------------+----------+--------------+--------------+-------------+--------------------+-----------+--------------+-----+\n",
      "|days_no_rain|precipitation|latitude|longitude|atm_pressure_station_level|global_radiation|air_temp|dpoint_temp|air_humidity|wind_clockwise|max_gust_speed|day_length|biome_Amazonia|biome_Caatinga|biome_Cerrado|biome_Mata Atlantica|biome_Pampa|biome_Pantanal|label|\n",
      "+------------+-------------+--------+---------+--------------------------+----------------+--------+-----------+------------+--------------+--------------+----------+--------------+--------------+-------------+--------------------+-----------+--------------+-----+\n",
      "|         0.0|          0.1|   2.842|   41.986|                    1006.7|          2318.2|    31.6|       21.3|        55.0|          88.0|          10.6| 12.161663|           0.0|           0.0|          1.0|                 0.0|        0.0|           0.0|  0.9|\n",
      "|         0.0|          0.8|   7.901|   42.494|                     985.9|          2887.3|    31.1|       19.5|        50.0|          36.0|           7.3|12.4521675|           0.0|           1.0|          0.0|                 0.0|        0.0|           0.0|  0.5|\n",
      "|         0.0|          0.0|   6.065|   39.262|                     988.2|          1814.4|    31.9|       16.1|        39.0|          52.0|           6.9| 12.346102|           0.0|           1.0|          0.0|                 0.0|        0.0|           0.0|  1.0|\n",
      "|         0.0|          3.7|  11.114|   45.656|                     958.6|          2842.9|    30.0|       22.7|        65.0|         290.0|           4.9| 12.640432|           0.0|           0.0|          1.0|                 0.0|        0.0|           0.0|  0.0|\n",
      "|         0.0|          0.1|   8.893|   42.701|                     969.4|          3135.6|    33.5|       18.5|        41.0|          49.0|           7.4| 12.509891|           0.0|           1.0|          0.0|                 0.0|        0.0|           0.0|  0.9|\n",
      "|         0.0|          1.7|   6.911|   39.357|                     967.2|          3179.6|    30.2|       17.6|        47.0|          17.0|           5.3| 12.394863|           0.0|           1.0|          0.0|                 0.0|        0.0|           0.0|  1.0|\n",
      "|         0.0|          0.0|    1.77|   45.192|                    1007.8|          2515.8|    32.0|       22.5|        57.0|          76.0|           8.8| 12.100629|           1.0|           0.0|          0.0|                 0.0|        0.0|           0.0|  0.0|\n",
      "|         0.0|          0.1|   2.843|   41.976|                    1006.7|          2318.2|    31.6|       21.3|        55.0|          88.0|          10.6|  12.16172|           0.0|           1.0|          0.0|                 0.0|        0.0|           0.0|  0.9|\n",
      "|         0.0|          0.7|   2.877|   43.872|                    1007.2|          1643.6|    29.6|       22.3|        65.0|         208.0|           9.4| 12.163658|           0.0|           0.0|          1.0|                 0.0|        0.0|           0.0|  0.4|\n",
      "|         0.0|          0.1|   3.355|   40.554|                    1002.2|          2187.2|    32.3|       19.7|        48.0|          76.0|           9.9| 12.190912|           0.0|           1.0|          0.0|                 0.0|        0.0|           0.0|  0.7|\n",
      "|         0.0|          9.6|  13.068|   52.383|                     976.4|          2396.9|    30.2|       23.8|        69.0|         148.0|           2.1| 12.757081|           1.0|           0.0|          0.0|                 0.0|        0.0|           0.0|  0.0|\n",
      "|         0.0|          9.4|  13.065|   52.389|                     976.4|          2396.9|    30.2|       23.8|        69.0|         148.0|           2.1| 12.756901|           1.0|           0.0|          0.0|                 0.0|        0.0|           0.0|  0.0|\n",
      "|         0.0|          1.7|  11.482|   51.044|                     991.0|          2524.2|    30.7|       21.8|        59.0|          36.0|           2.7| 12.662261|           0.0|           0.0|          1.0|                 0.0|        0.0|           0.0|  0.2|\n",
      "|         0.0|          7.6|  15.153|   42.333|                     949.5|          2584.4|    30.2|       16.7|        44.0|          46.0|           4.4| 12.883813|           0.0|           0.0|          0.0|                 1.0|        0.0|           0.0|  0.8|\n",
      "|         0.0|          0.2|  13.476|   42.754|                     962.4|          3012.8|    32.8|       19.9|        47.0|         262.0|           3.4| 12.781684|           0.0|           1.0|          0.0|                 0.0|        0.0|           0.0|  0.6|\n",
      "|         0.0|          2.4|   12.39|   44.622|                     960.2|          2713.6|    30.2|       22.5|        63.0|         139.0|           3.7|12.7163925|           0.0|           0.0|          1.0|                 0.0|        0.0|           0.0|  0.1|\n",
      "|         0.0|          6.1|  11.975|    46.55|                     933.5|          2559.5|    27.5|       20.8|        67.0|          85.0|           3.6| 12.691603|           0.0|           0.0|          1.0|                 0.0|        0.0|           0.0|  0.0|\n",
      "|         0.0|          3.4|  12.857|   45.766|                     929.9|          2562.3|    28.4|       20.9|        64.0|         137.0|           5.5| 12.744392|           0.0|           0.0|          1.0|                 0.0|        0.0|           0.0|  0.0|\n",
      "|         0.0|          1.1|  12.379|   44.318|                     960.2|          2713.6|    30.2|       22.5|        63.0|         139.0|           3.7|12.7157345|           0.0|           0.0|          1.0|                 0.0|        0.0|           0.0|  0.2|\n",
      "|         0.0|         10.5|  11.956|   45.134|                     960.2|          2713.6|    30.2|       22.5|        63.0|         139.0|           3.7|  12.69047|           0.0|           0.0|          1.0|                 0.0|        0.0|           0.0|  0.1|\n",
      "+------------+-------------+--------+---------+--------------------------+----------------+--------+-----------+------------+--------------+--------------+----------+--------------+--------------+-------------+--------------------+-----------+--------------+-----+\n",
      "only showing top 20 rows"
     ]
    }
   ],
   "source": [
    "df.show()"
   ]
  },
  {
   "cell_type": "markdown",
   "metadata": {},
   "source": [
    "Dividindo o dataset entre treinamento e teste"
   ]
  },
  {
   "cell_type": "code",
   "execution_count": 12,
   "metadata": {},
   "outputs": [
    {
     "data": {
      "application/vnd.jupyter.widget-view+json": {
       "model_id": "eb7c50a5dde64e3296f246bc3d491333",
       "version_major": 2,
       "version_minor": 0
      },
      "text/plain": [
       "VBox()"
      ]
     },
     "metadata": {},
     "output_type": "display_data"
    },
    {
     "data": {
      "application/vnd.jupyter.widget-view+json": {
       "model_id": "",
       "version_major": 2,
       "version_minor": 0
      },
      "text/plain": [
       "FloatProgress(value=0.0, bar_style='info', description='Progress:', layout=Layout(height='25px', width='50%'),…"
      ]
     },
     "metadata": {},
     "output_type": "display_data"
    }
   ],
   "source": [
    "training, test = df.randomSplit([0.8, 0.2])"
   ]
  },
  {
   "cell_type": "markdown",
   "metadata": {},
   "source": [
    "Criando VectorAssembler.\n",
    "\n",
    "Todos os recursos de entrada devem estar em uma coluna antes de alimentar o modelo"
   ]
  },
  {
   "cell_type": "code",
   "execution_count": 13,
   "metadata": {},
   "outputs": [
    {
     "data": {
      "application/vnd.jupyter.widget-view+json": {
       "model_id": "6d1caba5016c4867a3b926ad43ce2d3e",
       "version_major": 2,
       "version_minor": 0
      },
      "text/plain": [
       "VBox()"
      ]
     },
     "metadata": {},
     "output_type": "display_data"
    },
    {
     "data": {
      "application/vnd.jupyter.widget-view+json": {
       "model_id": "",
       "version_major": 2,
       "version_minor": 0
      },
      "text/plain": [
       "FloatProgress(value=0.0, bar_style='info', description='Progress:', layout=Layout(height='25px', width='50%'),…"
      ]
     },
     "metadata": {},
     "output_type": "display_data"
    }
   ],
   "source": [
    "\n",
    "assembler = VectorAssembler(inputCols=['days_no_rain', 'precipitation', 'latitude', 'longitude',\n",
    "                                       'atm_pressure_station_level', 'global_radiation', 'air_temp', \n",
    "                                       'dpoint_temp', 'air_humidity', 'wind_clockwise', 'max_gust_speed', \n",
    "                                       'day_length', 'biome_Amazonia', 'biome_Caatinga', 'biome_Cerrado', \n",
    "                                       'biome_Mata Atlantica', 'biome_Pampa', 'biome_Pantanal'], \\\n",
    "                            outputCol=\"inputFeatures\")"
   ]
  },
  {
   "cell_type": "markdown",
   "metadata": {},
   "source": [
    "Normalizando os dados"
   ]
  },
  {
   "cell_type": "code",
   "execution_count": 14,
   "metadata": {},
   "outputs": [
    {
     "data": {
      "application/vnd.jupyter.widget-view+json": {
       "model_id": "ee4ba6786ccf4a9e90257aa20bbbdccb",
       "version_major": 2,
       "version_minor": 0
      },
      "text/plain": [
       "VBox()"
      ]
     },
     "metadata": {},
     "output_type": "display_data"
    },
    {
     "data": {
      "application/vnd.jupyter.widget-view+json": {
       "model_id": "",
       "version_major": 2,
       "version_minor": 0
      },
      "text/plain": [
       "FloatProgress(value=0.0, bar_style='info', description='Progress:', layout=Layout(height='25px', width='50%'),…"
      ]
     },
     "metadata": {},
     "output_type": "display_data"
    }
   ],
   "source": [
    "scaler = Normalizer(inputCol=\"inputFeatures\", outputCol=\"features\")"
   ]
  },
  {
   "cell_type": "markdown",
   "metadata": {},
   "source": [
    "Definindo os modelos a serem utilizados e definindo so pipelines"
   ]
  },
  {
   "cell_type": "code",
   "execution_count": 23,
   "metadata": {},
   "outputs": [
    {
     "data": {
      "application/vnd.jupyter.widget-view+json": {
       "model_id": "082cf3056d75401e8da8648138cfb59d",
       "version_major": 2,
       "version_minor": 0
      },
      "text/plain": [
       "VBox()"
      ]
     },
     "metadata": {},
     "output_type": "display_data"
    },
    {
     "data": {
      "application/vnd.jupyter.widget-view+json": {
       "model_id": "",
       "version_major": 2,
       "version_minor": 0
      },
      "text/plain": [
       "FloatProgress(value=0.0, bar_style='info', description='Progress:', layout=Layout(height='25px', width='50%'),…"
      ]
     },
     "metadata": {},
     "output_type": "display_data"
    }
   ],
   "source": [
    "lr=LinearRegression()\n",
    "rfr = RandomForestRegressor()\n",
    "dtr = DecisionTreeRegressor()\n",
    "\n",
    "\n",
    "pipeline1=Pipeline(stages=[assembler, scaler, lr])\n",
    "pipeline2=Pipeline(stages=[assembler, scaler, rfr])\n",
    "pipeline3=Pipeline(stages=[assembler, scaler, dtr])"
   ]
  },
  {
   "cell_type": "markdown",
   "metadata": {},
   "source": [
    "## 7.1. LinearRegression"
   ]
  },
  {
   "cell_type": "code",
   "execution_count": 22,
   "metadata": {},
   "outputs": [
    {
     "data": {
      "application/vnd.jupyter.widget-view+json": {
       "model_id": "e5d6a891c8ba42bdab7a8069efaf397c",
       "version_major": 2,
       "version_minor": 0
      },
      "text/plain": [
       "VBox()"
      ]
     },
     "metadata": {},
     "output_type": "display_data"
    },
    {
     "data": {
      "application/vnd.jupyter.widget-view+json": {
       "model_id": "",
       "version_major": 2,
       "version_minor": 0
      },
      "text/plain": [
       "FloatProgress(value=0.0, bar_style='info', description='Progress:', layout=Layout(height='25px', width='50%'),…"
      ]
     },
     "metadata": {},
     "output_type": "display_data"
    },
    {
     "name": "stdout",
     "output_type": "stream",
     "text": [
      "0.26657931014085273"
     ]
    }
   ],
   "source": [
    "#Definindo os parametros a serem otimizados\n",
    "paramgrid1 =ParamGridBuilder()\\\n",
    ".addGrid(lr.regParam, [0.0, 0.1])\\\n",
    ".build()\n",
    "\n",
    "\n",
    "#Definindo 'rmse' como metrica de avaliação\n",
    "evaluator=RegressionEvaluator(metricName=\"rmse\")\n",
    "\n",
    "#Definindo os parametros de crossvalidation\n",
    "crossval = CrossValidator(estimator=pipeline1,  \n",
    "                         estimatorParamMaps=paramgrid1,\n",
    "                         evaluator = evaluator, \n",
    "                         numFolds=10\n",
    "                        )\n",
    "#Treinando o modelo e exbindo o score\n",
    "cvModel1=crossval.fit(training) \n",
    "linear_reg = evaluator.evaluate(cvModel1.transform(test))\n",
    "linear_reg"
   ]
  },
  {
   "cell_type": "markdown",
   "metadata": {},
   "source": [
    "## 7.3. RandomForestRegression"
   ]
  },
  {
   "cell_type": "code",
   "execution_count": 27,
   "metadata": {},
   "outputs": [
    {
     "data": {
      "application/vnd.jupyter.widget-view+json": {
       "model_id": "ea351ae222ab4ee5bf158652c41086b6",
       "version_major": 2,
       "version_minor": 0
      },
      "text/plain": [
       "VBox()"
      ]
     },
     "metadata": {},
     "output_type": "display_data"
    },
    {
     "data": {
      "application/vnd.jupyter.widget-view+json": {
       "model_id": "",
       "version_major": 2,
       "version_minor": 0
      },
      "text/plain": [
       "FloatProgress(value=0.0, bar_style='info', description='Progress:', layout=Layout(height='25px', width='50%'),…"
      ]
     },
     "metadata": {},
     "output_type": "display_data"
    },
    {
     "name": "stdout",
     "output_type": "stream",
     "text": [
      "0.20084046235790612"
     ]
    }
   ],
   "source": [
    "#Definindo os parametros a serem otimizados\n",
    "paramgrid2=ParamGridBuilder()\\\n",
    ".addGrid(rfr.numTrees, [20, 30])\\\n",
    ".addGrid(rfr.maxDepth, [5, 10])\\\n",
    ".build()\n",
    "\n",
    "#Definindo 'rmse' como metrica de avaliação\n",
    "evaluator=RegressionEvaluator(metricName=\"rmse\")\n",
    "\n",
    "#Definindo os parametros de crossvalidation\n",
    "crossval= CrossValidator(estimator=pipeline2,  \n",
    "                         estimatorParamMaps=paramgrid2,\n",
    "                         evaluator = evaluator , \n",
    "                         numFolds=10\n",
    "                        )\n",
    "#Treinando o modelo e exbindo o score\n",
    "cvModel2=crossval.fit(training) \n",
    "r_forest_reg = evaluator.evaluate(cvModel2.transform(test))\n",
    "r_forest_reg"
   ]
  },
  {
   "cell_type": "markdown",
   "metadata": {},
   "source": [
    "## 7.4. DecisonTreeRegressor"
   ]
  },
  {
   "cell_type": "code",
   "execution_count": 26,
   "metadata": {},
   "outputs": [
    {
     "data": {
      "application/vnd.jupyter.widget-view+json": {
       "model_id": "cacd7af3ff964f80a44f364e94ae680f",
       "version_major": 2,
       "version_minor": 0
      },
      "text/plain": [
       "VBox()"
      ]
     },
     "metadata": {},
     "output_type": "display_data"
    },
    {
     "data": {
      "application/vnd.jupyter.widget-view+json": {
       "model_id": "",
       "version_major": 2,
       "version_minor": 0
      },
      "text/plain": [
       "FloatProgress(value=0.0, bar_style='info', description='Progress:', layout=Layout(height='25px', width='50%'),…"
      ]
     },
     "metadata": {},
     "output_type": "display_data"
    },
    {
     "name": "stdout",
     "output_type": "stream",
     "text": [
      "0.24275118518660851"
     ]
    }
   ],
   "source": [
    "#Definindo os parametros a serem otimizados\n",
    "paramgrid3 =ParamGridBuilder()\\\n",
    ".addGrid(rfr.maxDepth, [5, 10])\\\n",
    ".build()\n",
    "\n",
    "#Definindo 'rmse' como metrica de avaliação\n",
    "evaluator=RegressionEvaluator(metricName=\"rmse\")\n",
    "\n",
    "#Definindo os parametros de crossvalidation\n",
    "crossval= CrossValidator(estimator=pipeline3,  \n",
    "                         estimatorParamMaps=paramgrid3,\n",
    "                         evaluator=evaluator, \n",
    "                         numFolds=10\n",
    "                        )\n",
    "#Treinando o modelo e exbindo o score\n",
    "cvModel3=crossval.fit(training) \n",
    "dec_tree = evaluator.evaluate(cvModel3.transform(test))\n",
    "dec_tree"
   ]
  },
  {
   "cell_type": "code",
   "execution_count": 34,
   "metadata": {},
   "outputs": [
    {
     "data": {
      "application/vnd.jupyter.widget-view+json": {
       "model_id": "557751cb40764462a41ab3262f86f8cd",
       "version_major": 2,
       "version_minor": 0
      },
      "text/plain": [
       "VBox()"
      ]
     },
     "metadata": {},
     "output_type": "display_data"
    },
    {
     "data": {
      "application/vnd.jupyter.widget-view+json": {
       "model_id": "",
       "version_major": 2,
       "version_minor": 0
      },
      "text/plain": [
       "FloatProgress(value=0.0, bar_style='info', description='Progress:', layout=Layout(height='25px', width='50%'),…"
      ]
     },
     "metadata": {},
     "output_type": "display_data"
    },
    {
     "name": "stdout",
     "output_type": "stream",
     "text": [
      "+-------------------+----------------------+---------------------+\n",
      "|    LinerRegression|RandomForestRegression|DecisionTreeRegressor|\n",
      "+-------------------+----------------------+---------------------+\n",
      "|0.26657931014085273|   0.20084046235790612|  0.24275118518660851|\n",
      "+-------------------+----------------------+---------------------+"
     ]
    }
   ],
   "source": [
    "import numpy as np\n",
    "import pandas as pd\n",
    "import pyspark.sql as sparksql\n",
    "\n",
    "data = np.array([(linear_reg, r_forest_reg, dec_tree)])\n",
    "\n",
    "modelos = pd.DataFrame(data, columns = ['LinerRegression', \n",
    "                                        'RandomForestRegression', 'DecisionTreeRegressor'])\n",
    "\n",
    "sql_context = sparksql.SQLContext(sc)\n",
    "df_spark = sql_context.createDataFrame(modelos)\n",
    "df_spark.show()"
   ]
  }
 ],
 "metadata": {
  "instance_type": "ml.t3.medium",
  "kernelspec": {
   "display_name": "Python 3 (Data Science)",
   "language": "python",
   "name": "python3__SAGEMAKER_INTERNAL__arn:aws:sagemaker:us-east-2:429704687514:image/datascience-1.0"
  },
  "language_info": {
   "codemirror_mode": {
    "name": "ipython",
    "version": 3
   },
   "file_extension": ".py",
   "mimetype": "text/x-python",
   "name": "python",
   "nbconvert_exporter": "python",
   "pygments_lexer": "ipython3",
   "version": "3.7.10"
  }
 },
 "nbformat": 4,
 "nbformat_minor": 5
}
